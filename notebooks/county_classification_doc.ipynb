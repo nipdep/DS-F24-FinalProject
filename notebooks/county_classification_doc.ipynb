{
 "cells": [
  {
   "cell_type": "markdown",
   "metadata": {},
   "source": [
    "## 2003 County type labels\n",
    "- Metro2003 \n",
    "- Micropolitan2003\n",
    "- Nonmetro2003\n",
    "- NonmetroAdj2003  <Nonmetro, adjacent to metro area, 2003>\n",
    "- NonmetroNotAdj2003\n",
    "- UrbanInfluenceCode2003\n",
    "- RuralUrbanContinuumCode2003\n",
    "\n",
    "## 2013 County type labels\n",
    "- Metro2013\n",
    "- Micropolitan2013\n",
    "- Nonmetro2013\n",
    "- Metro_Adjacent2013 <Nonmetro, adjacent to metro area, 2013>\n",
    "- ...\n",
    "- UrbanInfluenceCode2013\n",
    "- RuralUrbanContinuumCode2013\n",
    "\n",
    "## Natural resource features\n",
    "- HiAmenity\n",
    "- Gas_Change [2000-2011]\n",
    "- Oil_Gas_Change [2000-2011]\n",
    "- Oil_Change [2000-2011]\n",
    "- "
   ]
  },
  {
   "cell_type": "markdown",
   "metadata": {},
   "source": [
    "---"
   ]
  },
  {
   "cell_type": "markdown",
   "metadata": {},
   "source": [
    "### Rural-Urban Continuum Code (RUCC) 2003\n",
    "The Rural-Urban Continuum Codes categorize counties based on the size of their urban population and their metro/nonmetro status. The RUCC places a stronger focus on population density than proximity to metro areas.\n",
    "\n",
    "#### Metro counties\n",
    "- Code 1: Counties in metro areas with a population of 1 million or more.\n",
    "- Code 2: Counties in metro areas with a population of 250,000 to 1 million.\n",
    "- Code 3: Counties in metro areas with fewer than 250,000 people.\n",
    "#### Nonmetro counties\n",
    "- Code 4: Urban population of 20,000 or more, adjacent to a metro area.\n",
    "- Code 5: Urban population of 20,000 or more, not adjacent to a metro area.\n",
    "- Code 6: Urban population of 2,500 to 19,999, adjacent to a metro area.\n",
    "- Code 7: Urban population of 2,500 to 19,999, not adjacent to a metro area.\n",
    "- Code 8: Completely rural or less than 2,500 urban population, adjacent to a metro area.\n",
    "- Code 9: Completely rural or less than 2,500 urban population, not adjacent to a metro area"
   ]
  },
  {
   "cell_type": "markdown",
   "metadata": {},
   "source": [
    "---\n",
    "\n",
    "### Urban Influence Code (UIC) 2013\n",
    "\n",
    "#### Metro counties\n",
    "- Code 1: Large metro areas with a population of 1 million or more.\n",
    "- Code 2: Small metro areas with a population of less than 1 million.\n",
    "\n",
    "#### Nonmetro, micropolitan counties (with urban population between 10,000 and 49,999)\n",
    "- Code 3: Micropolitan counties adjacent to large metro areas.\n",
    "- Code 4: Micropolitan counties adjacent to small metro areas.\n",
    "- Code 5: Micropolitan counties not adjacent to metro areas.\n",
    "\n",
    "#### Nonmetro, noncore counties (with an urban population of less than 10,000)\n",
    "- Code 6: Noncore counties adjacent to large metro areas.\n",
    "- Code 7: Noncore counties adjacent to small metro areas.\n",
    "- Code 8: Noncore counties adjacent to micro areas.\n",
    "- Code 9: Noncore counties not adjacent to metro or micro areas, with a town of at least 2,500 people.\n",
    "- Code 10: Noncore counties not adjacent to metro or micro areas, without a town of at least 2,500 people.\n",
    "- Code 11: Noncore counties not adjacent to large metro areas, with a town of at least 1,000 but fewer than 2,500 people.\n",
    "- Code 12: Noncore counties not adjacent to metro areas, with no town of more than 1,000 people."
   ]
  },
  {
   "cell_type": "markdown",
   "metadata": {},
   "source": [
    "---\n",
    "### Natural Oil and Gas \n",
    "The \"Change in the value of onshore natural gas production, 2000-11\" with categories [0, 2] likely indicates two distinct levels or statuses of change in natural gas production value in onshore regions within that timeframe. Here’s what these values typically represent:\n",
    "\n",
    "1. Code 0: Indicates no significant change or no production of onshore natural gas within the 2000–2011 period. Counties with this code may not have produced natural gas or did not see a notable increase or decrease in production value during this timeframe.\n",
    "\n",
    "2. Code 2: Denotes moderate or significant increase in the value of natural gas production. Counties with this code likely experienced growth in natural gas production or value, possibly due to new drilling technologies, increased demand, or economic incentives that led to expanded extraction.\n",
    "\n",
    "3. Code 9: Typically used as a code for data not available, suppressed, or not applicable. This may apply to counties where data on natural gas production was not collected, where production was minimal and thus not recorded, or where data was omitted to protect proprietary information."
   ]
  },
  {
   "cell_type": "markdown",
   "metadata": {},
   "source": []
  }
 ],
 "metadata": {
  "language_info": {
   "name": "python"
  }
 },
 "nbformat": 4,
 "nbformat_minor": 2
}
