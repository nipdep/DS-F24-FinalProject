{
 "cells": [
  {
   "cell_type": "code",
   "execution_count": 66,
   "metadata": {},
   "outputs": [],
   "source": [
    "import pandas as pd\n",
    "import re"
   ]
  },
  {
   "cell_type": "code",
   "execution_count": 121,
   "metadata": {},
   "outputs": [
    {
     "name": "stdout",
     "output_type": "stream",
     "text": [
      "   FIPS State         County       Attribute        Value\n",
      "0     0    US  United States  NumCivEmployed  157510982.0\n",
      "1  1000    AL        Alabama  NumCivEmployed    2173597.0\n",
      "2  1001    AL        Autauga  NumCivEmployed      25871.0\n",
      "3  1003    AL        Baldwin  NumCivEmployed     104367.0\n",
      "4  1005    AL        Barbour  NumCivEmployed       8561.0\n"
     ]
    }
   ],
   "source": [
    "# Load the CSV file\n",
    "job_df = pd.read_csv('data/Jobs.csv', sep=',', encoding='ISO-8859-1')\n",
    "print(job_df.head())"
   ]
  },
  {
   "cell_type": "code",
   "execution_count": 122,
   "metadata": {},
   "outputs": [
    {
     "name": "stderr",
     "output_type": "stream",
     "text": [
      "C:\\Users\\timxi\\AppData\\Local\\Temp\\ipykernel_3408\\1620755003.py:13: UserWarning: This pattern is interpreted as a regular expression, and has match groups. To actually get the groups, use str.extract.\n",
      "  (job_df['Attribute'].str.contains(r'(2017|2018|2019|2020|2021)$', na=False) &\n",
      "C:\\Users\\timxi\\AppData\\Local\\Temp\\ipykernel_3408\\1620755003.py:14: UserWarning: This pattern is interpreted as a regular expression, and has match groups. To actually get the groups, use str.extract.\n",
      "  ~job_df['Attribute'].str.contains(r'(Pct|Change|LaborForce)', case=False, na=False)) |\n",
      "C:\\Users\\timxi\\AppData\\Local\\Temp\\ipykernel_3408\\1620755003.py:18: SettingWithCopyWarning: \n",
      "A value is trying to be set on a copy of a slice from a DataFrame.\n",
      "Try using .loc[row_indexer,col_indexer] = value instead\n",
      "\n",
      "See the caveats in the documentation: https://pandas.pydata.org/pandas-docs/stable/user_guide/indexing.html#returning-a-view-versus-a-copy\n",
      "  filtered_job_df['County'] = filtered_job_df['County'].str.strip()\n",
      "C:\\Users\\timxi\\AppData\\Local\\Temp\\ipykernel_3408\\1620755003.py:19: SettingWithCopyWarning: \n",
      "A value is trying to be set on a copy of a slice from a DataFrame.\n",
      "Try using .loc[row_indexer,col_indexer] = value instead\n",
      "\n",
      "See the caveats in the documentation: https://pandas.pydata.org/pandas-docs/stable/user_guide/indexing.html#returning-a-view-versus-a-copy\n",
      "  filtered_job_df['Attribute'] = filtered_job_df['Attribute'].str.strip()\n"
     ]
    },
    {
     "name": "stdout",
     "output_type": "stream",
     "text": [
      "Done!\n"
     ]
    }
   ],
   "source": [
    "job_df = job_df[job_df['State'] != \"PR\"]\n",
    "\n",
    "# Identify rows where \"County\" contains \"?\" and \"Value\" is null, indicating possible misclassification\n",
    "misclassified_rows = job_df[(job_df['County'].str.contains(r'\\?', na=False)) & (job_df['Value'].isna())]\n",
    "\n",
    "job_df.loc[misclassified_rows.index, ['Value']] = job_df.loc[misclassified_rows.index, 'Attribute']\n",
    "\n",
    "# Split the \"County\" values on \"?\" and assign parts to \"County\" and \"Attribute\" in misclassified rows\n",
    "job_df.loc[misclassified_rows.index, ['County', 'Attribute']] = job_df.loc[misclassified_rows.index, 'County'].str.split('?')\n",
    "\n",
    "# Now, apply the filter to keep only the rows with attributes ending with a year, containing 'Pct', or 'Change'\n",
    "filtered_job_df = job_df[\n",
    "    (job_df['Attribute'].str.contains(r'(2017|2018|2019|2020|2021)$', na=False) &\n",
    "     ~job_df['Attribute'].str.contains(r'(Pct|Change|LaborForce)', case=False, na=False)) |\n",
    "    (job_df['Attribute'] == \"NumCivEmployed\")\n",
    "]\n",
    "\n",
    "filtered_job_df['County'] = filtered_job_df['County'].str.strip()\n",
    "filtered_job_df['Attribute'] = filtered_job_df['Attribute'].str.strip()\n",
    "\n",
    "# Save the cleaned data to a new CSV file or display it\n",
    "filtered_job_df.to_csv('cleaned_Jobs.csv', encoding='utf-8', index=False)\n",
    "print(\"Done!\")"
   ]
  },
  {
   "cell_type": "code",
   "execution_count": 123,
   "metadata": {},
   "outputs": [
    {
     "name": "stdout",
     "output_type": "stream",
     "text": [
      "   FIPS State         County                Attribute         Value\n",
      "0     0    US  United States     Age65AndOlderNum2020  5.413663e+07\n",
      "1     0    US  United States     Age65AndOlderPct2020  1.633331e+01\n",
      "2     0    US  United States  AsianNonHispanicNum2020  1.961872e+07\n",
      "3     0    US  United States  AsianNonHispanicPct2020  5.919071e+00\n",
      "4     0    US  United States                AvgHHSize  2.600000e+00\n"
     ]
    }
   ],
   "source": [
    "people_df = pd.read_csv('data/People.csv', sep=',', encoding='ISO-8859-1')\n",
    "print(people_df.head())"
   ]
  },
  {
   "cell_type": "code",
   "execution_count": 124,
   "metadata": {},
   "outputs": [
    {
     "name": "stdout",
     "output_type": "stream",
     "text": [
      "Done!\n"
     ]
    },
    {
     "name": "stderr",
     "output_type": "stream",
     "text": [
      "C:\\Users\\timxi\\AppData\\Local\\Temp\\ipykernel_3408\\3388572666.py:18: SettingWithCopyWarning: \n",
      "A value is trying to be set on a copy of a slice from a DataFrame.\n",
      "Try using .loc[row_indexer,col_indexer] = value instead\n",
      "\n",
      "See the caveats in the documentation: https://pandas.pydata.org/pandas-docs/stable/user_guide/indexing.html#returning-a-view-versus-a-copy\n",
      "  filtered_people_df['County'] = filtered_people_df['County'].str.strip()\n",
      "C:\\Users\\timxi\\AppData\\Local\\Temp\\ipykernel_3408\\3388572666.py:19: SettingWithCopyWarning: \n",
      "A value is trying to be set on a copy of a slice from a DataFrame.\n",
      "Try using .loc[row_indexer,col_indexer] = value instead\n",
      "\n",
      "See the caveats in the documentation: https://pandas.pydata.org/pandas-docs/stable/user_guide/indexing.html#returning-a-view-versus-a-copy\n",
      "  filtered_people_df['Attribute'] = filtered_people_df['Attribute'].str.strip()\n"
     ]
    }
   ],
   "source": [
    "people_df = people_df[people_df['State'] != \"PR\"]\n",
    "\n",
    "# Identify rows where \"County\" contains \"?\" and \"Value\" is null, indicating possible misclassification\n",
    "misclassified_rows = people_df[(people_df['County'].str.contains(r'\\?', na=False)) & (people_df['Value'].isna())]\n",
    "\n",
    "# Assign the \"Attribute\" values to the \"Value\" column for misclassified rows\n",
    "people_df.loc[misclassified_rows.index, 'Value'] = people_df.loc[misclassified_rows.index, 'Attribute']\n",
    "\n",
    "# Split the \"County\" values on \"?\" and assign parts to \"County\" and \"Attribute\" in misclassified rows\n",
    "people_df.loc[misclassified_rows.index, ['County', 'Attribute']] = people_df.loc[misclassified_rows.index, 'County'].str.split('?')\n",
    "\n",
    "# Filter rows where \"Attribute\" ends with 2017-2021, does NOT contain 'Pct' or 'Change', \n",
    "# is exactly 'NumCivEmployed', or is exactly 'ForeignBornMexNum' or 'ForeignBornMexPct'\n",
    "filtered_people_df = people_df[\n",
    "    (people_df['Attribute'].isin([\"ForeignBornNum\", \"ForeignBornPct\"]))\n",
    "]\n",
    "\n",
    "filtered_people_df['County'] = filtered_people_df['County'].str.strip()\n",
    "filtered_people_df['Attribute'] = filtered_people_df['Attribute'].str.strip()\n",
    "\n",
    "# Save the cleaned data to a new CSV file or display it\n",
    "filtered_people_df.to_csv('cleaned_People.csv', encoding='utf-8', index=False)\n",
    "print(\"Done!\")"
   ]
  },
  {
   "cell_type": "code",
   "execution_count": 110,
   "metadata": {},
   "outputs": [
    {
     "name": "stdout",
     "output_type": "stream",
     "text": [
      "   FIPS State         County              Attribute         Value\n",
      "0     0    US  United States      Median_HH_Inc_ACS  69021.000000\n",
      "1     0    US  United States           PerCapitaInc  37638.000000\n",
      "2     0    US  United States  Poverty_Rate_0_17_ACS     17.046705\n",
      "3     0    US  United States       Poverty_Rate_ACS     12.631850\n",
      "4     0    US  United States           Deep_Pov_All      5.777385\n"
     ]
    }
   ],
   "source": [
    "income_df = pd.read_csv('data/Income.csv', sep=',', encoding='ISO-8859-1')\n",
    "print(income_df.head())"
   ]
  },
  {
   "cell_type": "code",
   "execution_count": 111,
   "metadata": {},
   "outputs": [
    {
     "name": "stderr",
     "output_type": "stream",
     "text": [
      "C:\\Users\\timxi\\AppData\\Local\\Temp\\ipykernel_3408\\1971628196.py:14: SettingWithCopyWarning: \n",
      "A value is trying to be set on a copy of a slice from a DataFrame.\n",
      "Try using .loc[row_indexer,col_indexer] = value instead\n",
      "\n",
      "See the caveats in the documentation: https://pandas.pydata.org/pandas-docs/stable/user_guide/indexing.html#returning-a-view-versus-a-copy\n",
      "  filtered_income_df['County'] = filtered_income_df['County'].str.strip()\n",
      "C:\\Users\\timxi\\AppData\\Local\\Temp\\ipykernel_3408\\1971628196.py:15: SettingWithCopyWarning: \n",
      "A value is trying to be set on a copy of a slice from a DataFrame.\n",
      "Try using .loc[row_indexer,col_indexer] = value instead\n",
      "\n",
      "See the caveats in the documentation: https://pandas.pydata.org/pandas-docs/stable/user_guide/indexing.html#returning-a-view-versus-a-copy\n",
      "  filtered_income_df['Attribute'] = filtered_income_df['Attribute'].str.strip()\n"
     ]
    }
   ],
   "source": [
    "income_df = income_df[income_df['State'] != \"PR\"]\n",
    "\n",
    "# Identify rows where \"County\" contains \"?\" and \"Value\" is null, indicating possible misclassification\n",
    "misclassified_rows = income_df[(income_df['County'].str.contains(r'\\?', na=False)) & (income_df['Value'].isna())]\n",
    "\n",
    "# Assign the \"Attribute\" values to the \"Value\" column for misclassified rows\n",
    "income_df.loc[misclassified_rows.index, 'Value'] = income_df.loc[misclassified_rows.index, 'Attribute']\n",
    "\n",
    "# Split the \"County\" values on \"?\" and assign parts to \"County\" and \"Attribute\" in misclassified rows\n",
    "income_df.loc[misclassified_rows.index, ['County', 'Attribute']] = income_df.loc[misclassified_rows.index, 'County'].str.split('?')\n",
    "\n",
    "filtered_income_df = income_df[income_df['Attribute'].isin(['Median_HH_Inc_ACS'])]\n",
    "\n",
    "filtered_income_df['County'] = filtered_income_df['County'].str.strip()\n",
    "filtered_income_df['Attribute'] = filtered_income_df['Attribute'].str.strip()\n",
    "\n",
    "filtered_income_df.to_csv('cleaned_Income.csv', encoding='utf-8', index=False)"
   ]
  }
 ],
 "metadata": {
  "kernelspec": {
   "display_name": "Python 3",
   "language": "python",
   "name": "python3"
  },
  "language_info": {
   "codemirror_mode": {
    "name": "ipython",
    "version": 3
   },
   "file_extension": ".py",
   "mimetype": "text/x-python",
   "name": "python",
   "nbconvert_exporter": "python",
   "pygments_lexer": "ipython3",
   "version": "3.12.6"
  }
 },
 "nbformat": 4,
 "nbformat_minor": 2
}
